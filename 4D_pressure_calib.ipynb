{
 "cells": [
  {
   "cell_type": "code",
   "execution_count": 1,
   "metadata": {},
   "outputs": [],
   "source": [
    "import pandas as pd\n",
    "import numpy as np\n",
    "import matplotlib.pyplot as plt "
   ]
  },
  {
   "cell_type": "code",
   "execution_count": 14,
   "metadata": {},
   "outputs": [
    {
     "data": {
      "text/plain": [
       "6273197025.020821"
      ]
     },
     "execution_count": 14,
     "metadata": {},
     "output_type": "execute_result"
    }
   ],
   "source": [
    "output = pd.read_table('output.csv',delimiter =',')\n",
    "output\n",
    "output['kdry'][5]"
   ]
  },
  {
   "cell_type": "code",
   "execution_count": 33,
   "metadata": {},
   "outputs": [
    {
     "data": {
      "text/html": [
       "<div>\n",
       "<style scoped>\n",
       "    .dataframe tbody tr th:only-of-type {\n",
       "        vertical-align: middle;\n",
       "    }\n",
       "\n",
       "    .dataframe tbody tr th {\n",
       "        vertical-align: top;\n",
       "    }\n",
       "\n",
       "    .dataframe thead th {\n",
       "        text-align: right;\n",
       "    }\n",
       "</style>\n",
       "<table border=\"1\" class=\"dataframe\">\n",
       "  <thead>\n",
       "    <tr style=\"text-align: right;\">\n",
       "      <th></th>\n",
       "      <th>Unnamed: 0</th>\n",
       "      <th>ksat</th>\n",
       "      <th>kmin</th>\n",
       "      <th>kdry</th>\n",
       "      <th>mysat</th>\n",
       "      <th>rsat</th>\n",
       "      <th>kmin_fls</th>\n",
       "    </tr>\n",
       "  </thead>\n",
       "  <tbody>\n",
       "    <tr>\n",
       "      <th>0</th>\n",
       "      <td>0</td>\n",
       "      <td>7.807090e+09</td>\n",
       "      <td>2.524804e+10</td>\n",
       "      <td>6.695603e+09</td>\n",
       "      <td>6.222042e+09</td>\n",
       "      <td>1777.91075</td>\n",
       "      <td>2.625225e+10</td>\n",
       "    </tr>\n",
       "    <tr>\n",
       "      <th>1</th>\n",
       "      <td>1</td>\n",
       "      <td>7.876962e+09</td>\n",
       "      <td>2.524804e+10</td>\n",
       "      <td>6.670470e+09</td>\n",
       "      <td>6.198000e+09</td>\n",
       "      <td>1777.91075</td>\n",
       "      <td>2.625225e+10</td>\n",
       "    </tr>\n",
       "    <tr>\n",
       "      <th>2</th>\n",
       "      <td>2</td>\n",
       "      <td>7.948477e+09</td>\n",
       "      <td>2.524804e+10</td>\n",
       "      <td>6.643050e+09</td>\n",
       "      <td>6.171854e+09</td>\n",
       "      <td>1777.91075</td>\n",
       "      <td>2.625225e+10</td>\n",
       "    </tr>\n",
       "    <tr>\n",
       "      <th>3</th>\n",
       "      <td>3</td>\n",
       "      <td>8.021179e+09</td>\n",
       "      <td>2.524804e+10</td>\n",
       "      <td>6.612796e+09</td>\n",
       "      <td>6.143107e+09</td>\n",
       "      <td>1777.91075</td>\n",
       "      <td>2.625225e+10</td>\n",
       "    </tr>\n",
       "    <tr>\n",
       "      <th>4</th>\n",
       "      <td>4</td>\n",
       "      <td>8.094432e+09</td>\n",
       "      <td>2.524804e+10</td>\n",
       "      <td>6.578924e+09</td>\n",
       "      <td>6.111050e+09</td>\n",
       "      <td>1777.91075</td>\n",
       "      <td>2.625225e+10</td>\n",
       "    </tr>\n",
       "    <tr>\n",
       "      <th>5</th>\n",
       "      <td>5</td>\n",
       "      <td>8.144094e+09</td>\n",
       "      <td>2.524804e+10</td>\n",
       "      <td>6.553240e+09</td>\n",
       "      <td>6.086832e+09</td>\n",
       "      <td>1777.91075</td>\n",
       "      <td>2.625225e+10</td>\n",
       "    </tr>\n",
       "    <tr>\n",
       "      <th>6</th>\n",
       "      <td>6</td>\n",
       "      <td>8.167288e+09</td>\n",
       "      <td>2.524804e+10</td>\n",
       "      <td>6.540239e+09</td>\n",
       "      <td>6.074603e+09</td>\n",
       "      <td>1777.91075</td>\n",
       "      <td>2.625225e+10</td>\n",
       "    </tr>\n",
       "    <tr>\n",
       "      <th>7</th>\n",
       "      <td>7</td>\n",
       "      <td>8.238208e+09</td>\n",
       "      <td>2.524804e+10</td>\n",
       "      <td>6.494774e+09</td>\n",
       "      <td>6.031994e+09</td>\n",
       "      <td>1777.91075</td>\n",
       "      <td>2.625225e+10</td>\n",
       "    </tr>\n",
       "    <tr>\n",
       "      <th>8</th>\n",
       "      <td>8</td>\n",
       "      <td>8.304361e+09</td>\n",
       "      <td>2.524804e+10</td>\n",
       "      <td>6.438875e+09</td>\n",
       "      <td>5.979944e+09</td>\n",
       "      <td>1777.91075</td>\n",
       "      <td>2.625225e+10</td>\n",
       "    </tr>\n",
       "  </tbody>\n",
       "</table>\n",
       "</div>"
      ],
      "text/plain": [
       "   Unnamed: 0          ksat          kmin          kdry         mysat  \\\n",
       "0           0  7.807090e+09  2.524804e+10  6.695603e+09  6.222042e+09   \n",
       "1           1  7.876962e+09  2.524804e+10  6.670470e+09  6.198000e+09   \n",
       "2           2  7.948477e+09  2.524804e+10  6.643050e+09  6.171854e+09   \n",
       "3           3  8.021179e+09  2.524804e+10  6.612796e+09  6.143107e+09   \n",
       "4           4  8.094432e+09  2.524804e+10  6.578924e+09  6.111050e+09   \n",
       "5           5  8.144094e+09  2.524804e+10  6.553240e+09  6.086832e+09   \n",
       "6           6  8.167288e+09  2.524804e+10  6.540239e+09  6.074603e+09   \n",
       "7           7  8.238208e+09  2.524804e+10  6.494774e+09  6.031994e+09   \n",
       "8           8  8.304361e+09  2.524804e+10  6.438875e+09  5.979944e+09   \n",
       "\n",
       "         rsat      kmin_fls  \n",
       "0  1777.91075  2.625225e+10  \n",
       "1  1777.91075  2.625225e+10  \n",
       "2  1777.91075  2.625225e+10  \n",
       "3  1777.91075  2.625225e+10  \n",
       "4  1777.91075  2.625225e+10  \n",
       "5  1777.91075  2.625225e+10  \n",
       "6  1777.91075  2.625225e+10  \n",
       "7  1777.91075  2.625225e+10  \n",
       "8  1777.91075  2.625225e+10  "
      ]
     },
     "execution_count": 33,
     "metadata": {},
     "output_type": "execute_result"
    }
   ],
   "source": [
    "output_edit = pd.read_table('output_edit.csv',delimiter =',')\n",
    "output_edit"
   ]
  },
  {
   "cell_type": "code",
   "execution_count": 3,
   "metadata": {},
   "outputs": [
    {
     "data": {
      "text/html": [
       "<div>\n",
       "<style scoped>\n",
       "    .dataframe tbody tr th:only-of-type {\n",
       "        vertical-align: middle;\n",
       "    }\n",
       "\n",
       "    .dataframe tbody tr th {\n",
       "        vertical-align: top;\n",
       "    }\n",
       "\n",
       "    .dataframe thead th {\n",
       "        text-align: right;\n",
       "    }\n",
       "</style>\n",
       "<table border=\"1\" class=\"dataframe\">\n",
       "  <thead>\n",
       "    <tr style=\"text-align: right;\">\n",
       "      <th></th>\n",
       "      <th>fluid_pressure</th>\n",
       "      <th>brine_saturation</th>\n",
       "      <th>gas_saturation</th>\n",
       "      <th>porosity</th>\n",
       "      <th>sand_fraction</th>\n",
       "      <th>depth</th>\n",
       "      <th>rock_pressure</th>\n",
       "    </tr>\n",
       "  </thead>\n",
       "  <tbody>\n",
       "    <tr>\n",
       "      <th>0</th>\n",
       "      <td>20000000</td>\n",
       "      <td>0</td>\n",
       "      <td>0</td>\n",
       "      <td>0.25</td>\n",
       "      <td>0.8</td>\n",
       "      <td>3000</td>\n",
       "      <td>20000000</td>\n",
       "    </tr>\n",
       "    <tr>\n",
       "      <th>1</th>\n",
       "      <td>25000000</td>\n",
       "      <td>0</td>\n",
       "      <td>0</td>\n",
       "      <td>0.25</td>\n",
       "      <td>0.8</td>\n",
       "      <td>3000</td>\n",
       "      <td>25000000</td>\n",
       "    </tr>\n",
       "    <tr>\n",
       "      <th>2</th>\n",
       "      <td>30000000</td>\n",
       "      <td>0</td>\n",
       "      <td>0</td>\n",
       "      <td>0.25</td>\n",
       "      <td>0.8</td>\n",
       "      <td>3000</td>\n",
       "      <td>30000000</td>\n",
       "    </tr>\n",
       "    <tr>\n",
       "      <th>3</th>\n",
       "      <td>35000000</td>\n",
       "      <td>0</td>\n",
       "      <td>0</td>\n",
       "      <td>0.25</td>\n",
       "      <td>0.8</td>\n",
       "      <td>3000</td>\n",
       "      <td>35000000</td>\n",
       "    </tr>\n",
       "    <tr>\n",
       "      <th>4</th>\n",
       "      <td>40000000</td>\n",
       "      <td>0</td>\n",
       "      <td>0</td>\n",
       "      <td>0.25</td>\n",
       "      <td>0.8</td>\n",
       "      <td>3000</td>\n",
       "      <td>40000000</td>\n",
       "    </tr>\n",
       "    <tr>\n",
       "      <th>5</th>\n",
       "      <td>43400000</td>\n",
       "      <td>0</td>\n",
       "      <td>0</td>\n",
       "      <td>0.25</td>\n",
       "      <td>0.8</td>\n",
       "      <td>3000</td>\n",
       "      <td>43400000</td>\n",
       "    </tr>\n",
       "    <tr>\n",
       "      <th>6</th>\n",
       "      <td>45000000</td>\n",
       "      <td>0</td>\n",
       "      <td>0</td>\n",
       "      <td>0.25</td>\n",
       "      <td>0.8</td>\n",
       "      <td>3000</td>\n",
       "      <td>45000000</td>\n",
       "    </tr>\n",
       "    <tr>\n",
       "      <th>7</th>\n",
       "      <td>50000000</td>\n",
       "      <td>0</td>\n",
       "      <td>0</td>\n",
       "      <td>0.25</td>\n",
       "      <td>0.8</td>\n",
       "      <td>3000</td>\n",
       "      <td>50000000</td>\n",
       "    </tr>\n",
       "    <tr>\n",
       "      <th>8</th>\n",
       "      <td>55000000</td>\n",
       "      <td>0</td>\n",
       "      <td>0</td>\n",
       "      <td>0.25</td>\n",
       "      <td>0.8</td>\n",
       "      <td>3000</td>\n",
       "      <td>55000000</td>\n",
       "    </tr>\n",
       "  </tbody>\n",
       "</table>\n",
       "</div>"
      ],
      "text/plain": [
       "   fluid_pressure  brine_saturation  gas_saturation  porosity  sand_fraction  \\\n",
       "0        20000000                 0               0      0.25            0.8   \n",
       "1        25000000                 0               0      0.25            0.8   \n",
       "2        30000000                 0               0      0.25            0.8   \n",
       "3        35000000                 0               0      0.25            0.8   \n",
       "4        40000000                 0               0      0.25            0.8   \n",
       "5        43400000                 0               0      0.25            0.8   \n",
       "6        45000000                 0               0      0.25            0.8   \n",
       "7        50000000                 0               0      0.25            0.8   \n",
       "8        55000000                 0               0      0.25            0.8   \n",
       "\n",
       "   depth  rock_pressure  \n",
       "0   3000       20000000  \n",
       "1   3000       25000000  \n",
       "2   3000       30000000  \n",
       "3   3000       35000000  \n",
       "4   3000       40000000  \n",
       "5   3000       43400000  \n",
       "6   3000       45000000  \n",
       "7   3000       50000000  \n",
       "8   3000       55000000  "
      ]
     },
     "execution_count": 3,
     "metadata": {},
     "output_type": "execute_result"
    }
   ],
   "source": [
    "input = pd.read_table('test.csv',delimiter =',')\n",
    "\n",
    "input\n",
    "\n",
    "\n"
   ]
  },
  {
   "cell_type": "code",
   "execution_count": 35,
   "metadata": {},
   "outputs": [
    {
     "data": {
      "text/plain": [
       "0    6.668514e+09\n",
       "1    6.667081e+09\n",
       "2    6.662837e+09\n",
       "3    6.650285e+09\n",
       "4    6.613340e+09\n",
       "5    6.553240e+09\n",
       "6    6.506165e+09\n",
       "7    6.207850e+09\n",
       "8    5.464852e+09\n",
       "Name: fluid_pressure, dtype: float64"
      ]
     },
     "execution_count": 35,
     "metadata": {},
     "output_type": "execute_result"
    }
   ],
   "source": [
    "Kd_new = output_edit['kdry'][5]*((1+3.72*np.exp(-Peff[5]/4.6))/(1+3.72*np.exp(-Peff/4.6)))\n",
    "Kd_new"
   ]
  },
  {
   "cell_type": "code",
   "execution_count": null,
   "metadata": {},
   "outputs": [],
   "source": []
  },
  {
   "cell_type": "code",
   "execution_count": null,
   "metadata": {},
   "outputs": [],
   "source": []
  },
  {
   "cell_type": "code",
   "execution_count": 21,
   "metadata": {},
   "outputs": [
    {
     "data": {
      "text/plain": [
       "0    48.0\n",
       "1    43.0\n",
       "2    38.0\n",
       "3    33.0\n",
       "4    28.0\n",
       "5    24.6\n",
       "6    23.0\n",
       "7    18.0\n",
       "8    13.0\n",
       "Name: fluid_pressure, dtype: float64"
      ]
     },
     "execution_count": 21,
     "metadata": {},
     "output_type": "execute_result"
    }
   ],
   "source": [
    "Peff = 68e6 - input['fluid_pressure']\n",
    "Peff = Peff*10e-7\n",
    "Peff"
   ]
  },
  {
   "cell_type": "code",
   "execution_count": 18,
   "metadata": {},
   "outputs": [
    {
     "data": {
      "text/plain": [
       "0    6.481409e+09\n",
       "1    6.444695e+09\n",
       "2    6.404618e+09\n",
       "3    6.360374e+09\n",
       "4    6.310806e+09\n",
       "5    6.273197e+09\n",
       "6    6.254152e+09\n",
       "7    6.187509e+09\n",
       "8    6.105485e+09\n",
       "Name: kdry, dtype: float64"
      ]
     },
     "execution_count": 18,
     "metadata": {},
     "output_type": "execute_result"
    }
   ],
   "source": [
    "output['kdry']"
   ]
  },
  {
   "cell_type": "code",
   "execution_count": 38,
   "metadata": {},
   "outputs": [
    {
     "data": {
      "image/png": "[encoded data removed]",
      "text/plain": [
       "<Figure size 600x400 with 1 Axes>"
      ]
     },
     "metadata": {
      "needs_background": "light"
     },
     "output_type": "display_data"
    }
   ],
   "source": [
    "plt.rcParams['figure.dpi'] = 100\n",
    "plt.plot(Peff,output_edit['kdry'],label='Patchy cement model')\n",
    "plt.plot(Peff,Kd_new,label = 'core fitting using MacBeth 2004')\n",
    "\n",
    "plt.xlabel(\"Peff MPa]\")\n",
    "plt.ylabel(\"Kdry Pa\")\n",
    "plt.legend()\n",
    "\n",
    "plt.show()"
   ]
  },
  {
   "cell_type": "code",
   "execution_count": null,
   "metadata": {},
   "outputs": [],
   "source": []
  },
  {
   "cell_type": "code",
   "execution_count": 42,
   "metadata": {},
   "outputs": [
    {
     "data": {
      "text/plain": [
       "[<matplotlib.lines.Line2D at 0x7fd979c17cd0>]"
      ]
     },
     "execution_count": 42,
     "metadata": {},
     "output_type": "execute_result"
    },
    {
     "data": {
      "image/png": "[encoded data removed]",
      "text/plain": [
       "<Figure size 432x288 with 1 Axes>"
      ]
     },
     "metadata": {
      "needs_background": "light"
     },
     "output_type": "display_data"
    }
   ],
   "source": [
    "plt.plot(Peff,output['kdry']/np.max(output['kdry']))"
   ]
  },
  {
   "cell_type": "code",
   "execution_count": null,
   "metadata": {},
   "outputs": [],
   "source": []
  }
 ],
 "metadata": {
  "kernelspec": {
   "display_name": "Python 3 (ipykernel)",
   "language": "python",
   "name": "python3"
  },
  "language_info": {
   "codemirror_mode": {
    "name": "ipython",
    "version": 3
   },
   "file_extension": ".py",
   "mimetype": "text/x-python",
   "name": "python",
   "nbconvert_exporter": "python",
   "pygments_lexer": "ipython3",
   "version": "3.7.10"
  }
 },
 "nbformat": 4,
 "nbformat_minor": 4
}
