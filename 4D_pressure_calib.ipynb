{
 "cells": [
  {
   "cell_type": "code",
   "execution_count": 1,
   "metadata": {},
   "outputs": [],
   "source": [
    "import pandas as pd\n",
    "import numpy as np\n",
    "import matplotlib.pyplot as plt "
   ]
  },
  {
   "cell_type": "code",
   "execution_count": 3,
   "metadata": {},
   "outputs": [
    {
     "data": {
      "text/html": [
       "<div>\n",
       "<style scoped>\n",
       "    .dataframe tbody tr th:only-of-type {\n",
       "        vertical-align: middle;\n",
       "    }\n",
       "\n",
       "    .dataframe tbody tr th {\n",
       "        vertical-align: top;\n",
       "    }\n",
       "\n",
       "    .dataframe thead th {\n",
       "        text-align: right;\n",
       "    }\n",
       "</style>\n",
       "<table border=\"1\" class=\"dataframe\">\n",
       "  <thead>\n",
       "    <tr style=\"text-align: right;\">\n",
       "      <th></th>\n",
       "      <th>Unnamed: 0</th>\n",
       "      <th>ksat</th>\n",
       "      <th>kmin</th>\n",
       "      <th>kdry</th>\n",
       "      <th>mysat</th>\n",
       "      <th>rsat</th>\n",
       "      <th>kmin_fls</th>\n",
       "    </tr>\n",
       "  </thead>\n",
       "  <tbody>\n",
       "    <tr>\n",
       "      <th>0</th>\n",
       "      <td>0</td>\n",
       "      <td>7.616670e+09</td>\n",
       "      <td>2.524804e+10</td>\n",
       "      <td>6.481409e+09</td>\n",
       "      <td>6.392145e+09</td>\n",
       "      <td>1772.61575</td>\n",
       "      <td>2.625225e+10</td>\n",
       "    </tr>\n",
       "    <tr>\n",
       "      <th>1</th>\n",
       "      <td>1</td>\n",
       "      <td>7.678292e+09</td>\n",
       "      <td>2.524804e+10</td>\n",
       "      <td>6.444695e+09</td>\n",
       "      <td>6.352564e+09</td>\n",
       "      <td>1772.61575</td>\n",
       "      <td>2.625225e+10</td>\n",
       "    </tr>\n",
       "    <tr>\n",
       "      <th>2</th>\n",
       "      <td>2</td>\n",
       "      <td>7.740902e+09</td>\n",
       "      <td>2.524804e+10</td>\n",
       "      <td>6.404618e+09</td>\n",
       "      <td>6.309501e+09</td>\n",
       "      <td>1772.61575</td>\n",
       "      <td>2.625225e+10</td>\n",
       "    </tr>\n",
       "    <tr>\n",
       "      <th>3</th>\n",
       "      <td>3</td>\n",
       "      <td>7.803862e+09</td>\n",
       "      <td>2.524804e+10</td>\n",
       "      <td>6.360374e+09</td>\n",
       "      <td>6.262134e+09</td>\n",
       "      <td>1772.61575</td>\n",
       "      <td>2.625225e+10</td>\n",
       "    </tr>\n",
       "    <tr>\n",
       "      <th>4</th>\n",
       "      <td>4</td>\n",
       "      <td>7.866270e+09</td>\n",
       "      <td>2.524804e+10</td>\n",
       "      <td>6.310806e+09</td>\n",
       "      <td>6.209285e+09</td>\n",
       "      <td>1772.61575</td>\n",
       "      <td>2.625225e+10</td>\n",
       "    </tr>\n",
       "    <tr>\n",
       "      <th>5</th>\n",
       "      <td>5</td>\n",
       "      <td>7.907728e+09</td>\n",
       "      <td>2.524804e+10</td>\n",
       "      <td>6.273197e+09</td>\n",
       "      <td>6.169342e+09</td>\n",
       "      <td>1772.61575</td>\n",
       "      <td>2.625225e+10</td>\n",
       "    </tr>\n",
       "    <tr>\n",
       "      <th>6</th>\n",
       "      <td>6</td>\n",
       "      <td>7.926768e+09</td>\n",
       "      <td>2.524804e+10</td>\n",
       "      <td>6.254152e+09</td>\n",
       "      <td>6.149166e+09</td>\n",
       "      <td>1772.61575</td>\n",
       "      <td>2.625225e+10</td>\n",
       "    </tr>\n",
       "    <tr>\n",
       "      <th>7</th>\n",
       "      <td>7</td>\n",
       "      <td>7.983129e+09</td>\n",
       "      <td>2.524804e+10</td>\n",
       "      <td>6.187509e+09</td>\n",
       "      <td>6.078836e+09</td>\n",
       "      <td>1772.61575</td>\n",
       "      <td>2.625225e+10</td>\n",
       "    </tr>\n",
       "    <tr>\n",
       "      <th>8</th>\n",
       "      <td>8</td>\n",
       "      <td>8.031227e+09</td>\n",
       "      <td>2.524804e+10</td>\n",
       "      <td>6.105485e+09</td>\n",
       "      <td>5.992855e+09</td>\n",
       "      <td>1772.61575</td>\n",
       "      <td>2.625225e+10</td>\n",
       "    </tr>\n",
       "  </tbody>\n",
       "</table>\n",
       "</div>"
      ],
      "text/plain": [
       "   Unnamed: 0          ksat          kmin          kdry         mysat  \\\n",
       "0           0  7.616670e+09  2.524804e+10  6.481409e+09  6.392145e+09   \n",
       "1           1  7.678292e+09  2.524804e+10  6.444695e+09  6.352564e+09   \n",
       "2           2  7.740902e+09  2.524804e+10  6.404618e+09  6.309501e+09   \n",
       "3           3  7.803862e+09  2.524804e+10  6.360374e+09  6.262134e+09   \n",
       "4           4  7.866270e+09  2.524804e+10  6.310806e+09  6.209285e+09   \n",
       "5           5  7.907728e+09  2.524804e+10  6.273197e+09  6.169342e+09   \n",
       "6           6  7.926768e+09  2.524804e+10  6.254152e+09  6.149166e+09   \n",
       "7           7  7.983129e+09  2.524804e+10  6.187509e+09  6.078836e+09   \n",
       "8           8  8.031227e+09  2.524804e+10  6.105485e+09  5.992855e+09   \n",
       "\n",
       "         rsat      kmin_fls  \n",
       "0  1772.61575  2.625225e+10  \n",
       "1  1772.61575  2.625225e+10  \n",
       "2  1772.61575  2.625225e+10  \n",
       "3  1772.61575  2.625225e+10  \n",
       "4  1772.61575  2.625225e+10  \n",
       "5  1772.61575  2.625225e+10  \n",
       "6  1772.61575  2.625225e+10  \n",
       "7  1772.61575  2.625225e+10  \n",
       "8  1772.61575  2.625225e+10  "
      ]
     },
     "execution_count": 3,
     "metadata": {},
     "output_type": "execute_result"
    }
   ],
   "source": [
    "output = pd.read_table('output.csv',delimiter =',')\n",
    "output"
   ]
  },
  {
   "cell_type": "code",
   "execution_count": 7,
   "metadata": {},
   "outputs": [
    {
     "data": {
      "text/html": [
       "<div>\n",
       "<style scoped>\n",
       "    .dataframe tbody tr th:only-of-type {\n",
       "        vertical-align: middle;\n",
       "    }\n",
       "\n",
       "    .dataframe tbody tr th {\n",
       "        vertical-align: top;\n",
       "    }\n",
       "\n",
       "    .dataframe thead th {\n",
       "        text-align: right;\n",
       "    }\n",
       "</style>\n",
       "<table border=\"1\" class=\"dataframe\">\n",
       "  <thead>\n",
       "    <tr style=\"text-align: right;\">\n",
       "      <th></th>\n",
       "      <th>fluid_pressure</th>\n",
       "      <th>brine_saturation</th>\n",
       "      <th>gas_saturation</th>\n",
       "      <th>porosity</th>\n",
       "      <th>sand_fraction</th>\n",
       "      <th>depth</th>\n",
       "      <th>rock_pressure</th>\n",
       "    </tr>\n",
       "  </thead>\n",
       "  <tbody>\n",
       "    <tr>\n",
       "      <th>0</th>\n",
       "      <td>20000000</td>\n",
       "      <td>0</td>\n",
       "      <td>0</td>\n",
       "      <td>0.25</td>\n",
       "      <td>0.8</td>\n",
       "      <td>3000</td>\n",
       "      <td>20000000</td>\n",
       "    </tr>\n",
       "    <tr>\n",
       "      <th>1</th>\n",
       "      <td>25000000</td>\n",
       "      <td>0</td>\n",
       "      <td>0</td>\n",
       "      <td>0.25</td>\n",
       "      <td>0.8</td>\n",
       "      <td>3000</td>\n",
       "      <td>25000000</td>\n",
       "    </tr>\n",
       "    <tr>\n",
       "      <th>2</th>\n",
       "      <td>30000000</td>\n",
       "      <td>0</td>\n",
       "      <td>0</td>\n",
       "      <td>0.25</td>\n",
       "      <td>0.8</td>\n",
       "      <td>3000</td>\n",
       "      <td>30000000</td>\n",
       "    </tr>\n",
       "    <tr>\n",
       "      <th>3</th>\n",
       "      <td>35000000</td>\n",
       "      <td>0</td>\n",
       "      <td>0</td>\n",
       "      <td>0.25</td>\n",
       "      <td>0.8</td>\n",
       "      <td>3000</td>\n",
       "      <td>35000000</td>\n",
       "    </tr>\n",
       "    <tr>\n",
       "      <th>4</th>\n",
       "      <td>40000000</td>\n",
       "      <td>0</td>\n",
       "      <td>0</td>\n",
       "      <td>0.25</td>\n",
       "      <td>0.8</td>\n",
       "      <td>3000</td>\n",
       "      <td>40000000</td>\n",
       "    </tr>\n",
       "    <tr>\n",
       "      <th>5</th>\n",
       "      <td>43400000</td>\n",
       "      <td>0</td>\n",
       "      <td>0</td>\n",
       "      <td>0.25</td>\n",
       "      <td>0.8</td>\n",
       "      <td>3000</td>\n",
       "      <td>43400000</td>\n",
       "    </tr>\n",
       "    <tr>\n",
       "      <th>6</th>\n",
       "      <td>45000000</td>\n",
       "      <td>0</td>\n",
       "      <td>0</td>\n",
       "      <td>0.25</td>\n",
       "      <td>0.8</td>\n",
       "      <td>3000</td>\n",
       "      <td>45000000</td>\n",
       "    </tr>\n",
       "    <tr>\n",
       "      <th>7</th>\n",
       "      <td>50000000</td>\n",
       "      <td>0</td>\n",
       "      <td>0</td>\n",
       "      <td>0.25</td>\n",
       "      <td>0.8</td>\n",
       "      <td>3000</td>\n",
       "      <td>50000000</td>\n",
       "    </tr>\n",
       "    <tr>\n",
       "      <th>8</th>\n",
       "      <td>55000000</td>\n",
       "      <td>0</td>\n",
       "      <td>0</td>\n",
       "      <td>0.25</td>\n",
       "      <td>0.8</td>\n",
       "      <td>3000</td>\n",
       "      <td>55000000</td>\n",
       "    </tr>\n",
       "  </tbody>\n",
       "</table>\n",
       "</div>"
      ],
      "text/plain": [
       "   fluid_pressure  brine_saturation  gas_saturation  porosity  sand_fraction  \\\n",
       "0        20000000                 0               0      0.25            0.8   \n",
       "1        25000000                 0               0      0.25            0.8   \n",
       "2        30000000                 0               0      0.25            0.8   \n",
       "3        35000000                 0               0      0.25            0.8   \n",
       "4        40000000                 0               0      0.25            0.8   \n",
       "5        43400000                 0               0      0.25            0.8   \n",
       "6        45000000                 0               0      0.25            0.8   \n",
       "7        50000000                 0               0      0.25            0.8   \n",
       "8        55000000                 0               0      0.25            0.8   \n",
       "\n",
       "   depth  rock_pressure  \n",
       "0   3000       20000000  \n",
       "1   3000       25000000  \n",
       "2   3000       30000000  \n",
       "3   3000       35000000  \n",
       "4   3000       40000000  \n",
       "5   3000       43400000  \n",
       "6   3000       45000000  \n",
       "7   3000       50000000  \n",
       "8   3000       55000000  "
      ]
     },
     "execution_count": 7,
     "metadata": {},
     "output_type": "execute_result"
    }
   ],
   "source": [
    "input = pd.read_table('test.csv',delimiter =',')\n",
    "\n",
    "input\n",
    "\n"
   ]
  },
  {
   "cell_type": "code",
   "execution_count": null,
   "metadata": {},
   "outputs": [
    {
     "data": {
      "text/plain": [
       "[<matplotlib.lines.Line2D at 0x7fd97a4b6590>]"
      ]
     },
     "execution_count": 10,
     "metadata": {},
     "output_type": "execute_result"
    },
    {
     "data": {
      "image/png": "[encoded data removed]",
      "text/plain": [
       "<Figure size 432x288 with 1 Axes>"
      ]
     },
     "metadata": {
      "needs_background": "light"
     },
     "output_type": "display_data"
    }
   ],
   "source": [
    "plt.plot(68e6 - input['fluid_pressure'],output['kdry'])"
   ]
  },
  {
   "cell_type": "code",
   "execution_count": 23,
   "metadata": {},
   "outputs": [
    {
     "data": {
      "text/plain": [
       "0    48.0\n",
       "1    43.0\n",
       "2    38.0\n",
       "3    33.0\n",
       "4    28.0\n",
       "5    24.6\n",
       "6    23.0\n",
       "7    18.0\n",
       "8    13.0\n",
       "Name: fluid_pressure, dtype: float64"
      ]
     },
     "execution_count": 23,
     "metadata": {},
     "output_type": "execute_result"
    }
   ],
   "source": [
    "Peff = 68e6 - input['fluid_pressure']\n",
    "Peff = Peff*10e-7\n",
    "Peff"
   ]
  },
  {
   "cell_type": "code",
   "execution_count": 24,
   "metadata": {},
   "outputs": [
    {
     "data": {
      "text/plain": [
       "0    14.208446\n",
       "1    14.205394\n",
       "2    14.196352\n",
       "3    14.169607\n",
       "4    14.090890\n",
       "5    13.962836\n",
       "6    13.862533\n",
       "7    13.226921\n",
       "8    11.643833\n",
       "Name: fluid_pressure, dtype: float64"
      ]
     },
     "execution_count": 24,
     "metadata": {},
     "output_type": "execute_result"
    }
   ],
   "source": [
    "kdry = 14.21/(1+3.72*np.exp(-Peff/4.6))\n",
    "kdry"
   ]
  },
  {
   "cell_type": "code",
   "execution_count": 41,
   "metadata": {},
   "outputs": [
    {
     "data": {
      "text/plain": [
       "[<matplotlib.lines.Line2D at 0x7fd979cb2890>]"
      ]
     },
     "execution_count": 41,
     "metadata": {},
     "output_type": "execute_result"
    },
    {
     "data": {
      "image/png": "[encoded data removed]",
      "text/plain": [
       "<Figure size 432x288 with 1 Axes>"
      ]
     },
     "metadata": {
      "needs_background": "light"
     },
     "output_type": "display_data"
    }
   ],
   "source": [
    "plt.plot(Peff,output['kdry']/np.max(output['kdry']))\n",
    "plt.plot(Peff,kdry*1e9/np.max(kdry*1e9))\n"
   ]
  },
  {
   "cell_type": "code",
   "execution_count": 40,
   "metadata": {},
   "outputs": [
    {
     "data": {
      "text/plain": [
       "[<matplotlib.lines.Line2D at 0x7fd979d31910>]"
      ]
     },
     "execution_count": 40,
     "metadata": {},
     "output_type": "execute_result"
    },
    {
     "data": {
      "image/png": "[encoded data removed]",
      "text/plain": [
       "<Figure size 432x288 with 1 Axes>"
      ]
     },
     "metadata": {
      "needs_background": "light"
     },
     "output_type": "display_data"
    }
   ],
   "source": [
    "plt.plot(Peff,kdry*1e9/np.max(kdry*1e9))"
   ]
  },
  {
   "cell_type": "code",
   "execution_count": 42,
   "metadata": {},
   "outputs": [
    {
     "data": {
      "text/plain": [
       "[<matplotlib.lines.Line2D at 0x7fd979c17cd0>]"
      ]
     },
     "execution_count": 42,
     "metadata": {},
     "output_type": "execute_result"
    },
    {
     "data": {
      "image/png": "[encoded data removed]",
      "text/plain": [
       "<Figure size 432x288 with 1 Axes>"
      ]
     },
     "metadata": {
      "needs_background": "light"
     },
     "output_type": "display_data"
    }
   ],
   "source": [
    "plt.plot(Peff,output['kdry']/np.max(output['kdry']))"
   ]
  },
  {
   "cell_type": "code",
   "execution_count": null,
   "metadata": {},
   "outputs": [],
   "source": []
  }
 ],
 "metadata": {
  "kernelspec": {
   "display_name": "Python 3 (ipykernel)",
   "language": "python",
   "name": "python3"
  },
  "language_info": {
   "codemirror_mode": {
    "name": "ipython",
    "version": 3
   },
   "file_extension": ".py",
   "mimetype": "text/x-python",
   "name": "python",
   "nbconvert_exporter": "python",
   "pygments_lexer": "ipython3",
   "version": "3.7.10"
  }
 },
 "nbformat": 4,
 "nbformat_minor": 4
}
